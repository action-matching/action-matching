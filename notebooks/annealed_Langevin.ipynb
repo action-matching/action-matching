{
 "cells": [
  {
   "cell_type": "code",
   "execution_count": 1,
   "id": "de3d2fa2",
   "metadata": {},
   "outputs": [],
   "source": [
    "%matplotlib inline"
   ]
  },
  {
   "cell_type": "code",
   "execution_count": 2,
   "id": "aefa42d3",
   "metadata": {},
   "outputs": [],
   "source": [
    "import torch\n",
    "import numpy as np\n",
    "\n",
    "import sys\n",
    "sys.path.append('../')\n",
    "from core.hmodel import *\n",
    "from core.losses import *\n",
    "from models.mlp import MLP\n",
    "from models import ema\n",
    "from utils.train_utils import *\n",
    "from utils.plot_utils import *\n",
    "from utils.eval_utils import *\n",
    "\n",
    "from ml_collections import config_dict\n",
    "from tqdm.auto import tqdm, trange"
   ]
  },
  {
   "cell_type": "code",
   "execution_count": 3,
   "id": "ca4cf6cd",
   "metadata": {},
   "outputs": [],
   "source": [
    "def propagate(t,x,dt,eps=10.0,n_steps=5):\n",
    "    x_t, gen_t = data_gen.q_t(t + dt, replace=False)\n",
    "    gen_t = gen_t*data_gen.T\n",
    "    psi_t = data_gen.psi.evolve_to(gen_t[0].to(device))\n",
    "    for _ in range(n_steps):\n",
    "        x.requires_grad = True\n",
    "        nabla_logp = torch.autograd.grad(psi_t.log_prob(x.to(device)).sum(), x)[0]\n",
    "        x.requires_grad = False\n",
    "        x.data += 0.5*eps*nabla_logp + math.sqrt(eps)*torch.randn_like(x)\n",
    "    return x\n",
    "\n",
    "def evaluate(data_gen, eps, n_steps, device, config):\n",
    "    N = config.data.n_steps//4\n",
    "    x = data_gen.samples[0].to(device)\n",
    "    dt = 1./config.data.n_steps\n",
    "    t = torch.zeros([x.shape[0],1], device=device)\n",
    "    n_evals = 5\n",
    "    eval_every = N//n_evals\n",
    "    avg_mmd = 0.0\n",
    "    mmd = MMDStatistic(config.data.batch_size, config.data.batch_size)\n",
    "    for i in range(N):\n",
    "        x = propagate(t, x, dt, eps, n_steps)\n",
    "        t.data += dt\n",
    "        if ((i+1) % eval_every) == 0:\n",
    "            x_t, gen_t = data_gen.q_t(t, replace=False)\n",
    "            gen_t = gen_t*data_gen.T\n",
    "            cur_mmd = mmd(x, x_t, 1e-4*torch.ones(x.shape[1], device=device))\n",
    "            avg_mmd += cur_mmd.abs().cpu().numpy()/n_evals\n",
    "    return avg_mmd\n",
    "\n",
    "def plot_frame(x, x_gt, kde=False):\n",
    "    fig, ax = plt.subplots(2,3, figsize=(16,10))\n",
    "    if kde:\n",
    "        plot_samples_kde(x_gt, axes=ax[0])\n",
    "        plot_samples_kde(x, axes=ax[1])\n",
    "    else:\n",
    "        plot_samples(x_gt, bins=40, axes=ax[0])\n",
    "        plot_samples(x, bins=40, axes=ax[1])\n",
    "    for j in range(3):\n",
    "        ax[0,j].set_title('training data', fontsize=15)\n",
    "        ax[1,j].set_title(f'samples from model', fontsize=15)\n",
    "    plt.draw()\n",
    "    fig.tight_layout()\n",
    "    return fig"
   ]
  },
  {
   "cell_type": "code",
   "execution_count": 4,
   "id": "06063f4c",
   "metadata": {},
   "outputs": [],
   "source": [
    "device = torch.device('cuda')\n",
    "model, data_gen, loss, config = prepare_hydrogen(device)"
   ]
  },
  {
   "cell_type": "code",
   "execution_count": 5,
   "id": "4da7ce14",
   "metadata": {},
   "outputs": [
    {
     "data": {
      "application/vnd.jupyter.widget-view+json": {
       "model_id": "48e9394110c64be0b06f735ce320ac69",
       "version_major": 2,
       "version_minor": 0
      },
      "text/plain": [
       "  0%|          | 0/30 [00:00<?, ?it/s]"
      ]
     },
     "metadata": {},
     "output_type": "display_data"
    }
   ],
   "source": [
    "n = 30\n",
    "eps_space = np.linspace(10.0,40.0,n)\n",
    "mmd_plot = np.zeros(n)\n",
    "for i in trange(n):\n",
    "    mmd_plot[i] = evaluate(data_gen, eps_space[i], 5, device, config)"
   ]
  },
  {
   "cell_type": "code",
   "execution_count": 6,
   "id": "f892e6bb",
   "metadata": {},
   "outputs": [
    {
     "data": {
      "image/png": "[encoded data removed]",
      "text/plain": [
       "<Figure size 640x480 with 1 Axes>"
      ]
     },
     "metadata": {},
     "output_type": "display_data"
    }
   ],
   "source": [
    "plt.plot(eps_space, mmd_plot)\n",
    "plt.grid()"
   ]
  },
  {
   "cell_type": "code",
   "execution_count": 7,
   "id": "d9a8f717",
   "metadata": {},
   "outputs": [
    {
     "data": {
      "application/vnd.jupyter.widget-view+json": {
       "model_id": "285c745f5e8548c69cda83d59df6354a",
       "version_major": 2,
       "version_minor": 0
      },
      "text/plain": [
       "  0%|          | 0/10 [00:00<?, ?it/s]"
      ]
     },
     "metadata": {},
     "output_type": "display_data"
    }
   ],
   "source": [
    "n = 10\n",
    "eps_space = 15.0*np.ones(n)\n",
    "mmd_plot = np.zeros(n)\n",
    "for i in trange(n):\n",
    "    mmd_plot[i] = evaluate(data_gen, eps_space[i], 5, device, config)"
   ]
  },
  {
   "cell_type": "code",
   "execution_count": 11,
   "id": "fa51b847",
   "metadata": {},
   "outputs": [
    {
     "data": {
      "text/plain": [
       "(0.0036192345619201665, 0.0004063455492671459)"
      ]
     },
     "execution_count": 11,
     "metadata": {},
     "output_type": "execute_result"
    }
   ],
   "source": [
    "mmd_plot.mean(), mmd_plot.std()"
   ]
  },
  {
   "cell_type": "code",
   "execution_count": null,
   "id": "daa35a1f",
   "metadata": {},
   "outputs": [],
   "source": []
  }
 ],
 "metadata": {
  "kernelspec": {
   "display_name": "Python 3 (ipykernel)",
   "language": "python",
   "name": "python3"
  },
  "language_info": {
   "codemirror_mode": {
    "name": "ipython",
    "version": 3
   },
   "file_extension": ".py",
   "mimetype": "text/x-python",
   "name": "python",
   "nbconvert_exporter": "python",
   "pygments_lexer": "ipython3",
   "version": "3.9.13"
  }
 },
 "nbformat": 4,
 "nbformat_minor": 5
}
